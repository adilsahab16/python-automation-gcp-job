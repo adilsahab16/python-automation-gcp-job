{
  "nbformat": 4,
  "nbformat_minor": 0,
  "metadata": {
    "colab": {
      "provenance": []
    },
    "kernelspec": {
      "name": "python3",
      "display_name": "Python 3"
    },
    "language_info": {
      "name": "python"
    }
  },
  "cells": [
    {
      "cell_type": "code",
      "execution_count": 1,
      "metadata": {
        "id": "aApT7KKr0APt",
        "outputId": "e01cd5ed-3a02-4163-9729-977d56741e50",
        "colab": {
          "base_uri": "https://localhost:8080/"
        }
      },
      "outputs": [
        {
          "output_type": "stream",
          "name": "stdout",
          "text": [
            "Data audit\n"
          ]
        }
      ],
      "source": [
        "print(\"Data audit\")"
      ]
    }
  ]
}